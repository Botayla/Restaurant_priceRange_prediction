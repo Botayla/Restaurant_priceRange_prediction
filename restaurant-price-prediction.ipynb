{
 "cells": [
  {
   "cell_type": "code",
   "execution_count": 1,
   "id": "223ee122",
   "metadata": {
    "_cell_guid": "b1076dfc-b9ad-4769-8c92-a6c4dae69d19",
    "_uuid": "8f2839f25d086af736a60e9eeb907d3b93b6e0e5",
    "execution": {
     "iopub.execute_input": "2024-04-07T08:18:59.959894Z",
     "iopub.status.busy": "2024-04-07T08:18:59.959495Z",
     "iopub.status.idle": "2024-04-07T08:19:01.040061Z",
     "shell.execute_reply": "2024-04-07T08:19:01.039054Z"
    },
    "papermill": {
     "duration": 1.091357,
     "end_time": "2024-04-07T08:19:01.042878",
     "exception": false,
     "start_time": "2024-04-07T08:18:59.951521",
     "status": "completed"
    },
    "tags": []
   },
   "outputs": [
    {
     "name": "stdout",
     "output_type": "stream",
     "text": [
      "/kaggle/input/restaurant-dataset/Dataset .csv\n"
     ]
    }
   ],
   "source": [
    "# This Python 3 environment comes with many helpful analytics libraries installed\n",
    "# It is defined by the kaggle/python Docker image: https://github.com/kaggle/docker-python\n",
    "# For example, here's several helpful packages to load\n",
    "\n",
    "import numpy as np # linear algebra\n",
    "import pandas as pd # data processing, CSV file I/O (e.g. pd.read_csv)\n",
    "\n",
    "# Input data files are available in the read-only \"../input/\" directory\n",
    "# For example, running this (by clicking run or pressing Shift+Enter) will list all files under the input directory\n",
    "\n",
    "import os\n",
    "for dirname, _, filenames in os.walk('/kaggle/input'):\n",
    "    for filename in filenames:\n",
    "        print(os.path.join(dirname, filename))\n",
    "\n",
    "# You can write up to 20GB to the current directory (/kaggle/working/) that gets preserved as output when you create a version using \"Save & Run All\" \n",
    "# You can also write temporary files to /kaggle/temp/, but they won't be saved outside of the current session"
   ]
  },
  {
   "cell_type": "code",
   "execution_count": 2,
   "id": "bfe4f841",
   "metadata": {
    "execution": {
     "iopub.execute_input": "2024-04-07T08:19:01.056364Z",
     "iopub.status.busy": "2024-04-07T08:19:01.055835Z",
     "iopub.status.idle": "2024-04-07T08:19:01.208443Z",
     "shell.execute_reply": "2024-04-07T08:19:01.207154Z"
    },
    "papermill": {
     "duration": 0.162161,
     "end_time": "2024-04-07T08:19:01.211147",
     "exception": false,
     "start_time": "2024-04-07T08:19:01.048986",
     "status": "completed"
    },
    "tags": []
   },
   "outputs": [
    {
     "data": {
      "text/html": [
       "<div>\n",
       "<style scoped>\n",
       "    .dataframe tbody tr th:only-of-type {\n",
       "        vertical-align: middle;\n",
       "    }\n",
       "\n",
       "    .dataframe tbody tr th {\n",
       "        vertical-align: top;\n",
       "    }\n",
       "\n",
       "    .dataframe thead th {\n",
       "        text-align: right;\n",
       "    }\n",
       "</style>\n",
       "<table border=\"1\" class=\"dataframe\">\n",
       "  <thead>\n",
       "    <tr style=\"text-align: right;\">\n",
       "      <th></th>\n",
       "      <th>Restaurant ID</th>\n",
       "      <th>Restaurant Name</th>\n",
       "      <th>Country Code</th>\n",
       "      <th>City</th>\n",
       "      <th>Address</th>\n",
       "      <th>Locality</th>\n",
       "      <th>Locality Verbose</th>\n",
       "      <th>Longitude</th>\n",
       "      <th>Latitude</th>\n",
       "      <th>Cuisines</th>\n",
       "      <th>...</th>\n",
       "      <th>Currency</th>\n",
       "      <th>Has Table booking</th>\n",
       "      <th>Has Online delivery</th>\n",
       "      <th>Is delivering now</th>\n",
       "      <th>Switch to order menu</th>\n",
       "      <th>Price range</th>\n",
       "      <th>Aggregate rating</th>\n",
       "      <th>Rating color</th>\n",
       "      <th>Rating text</th>\n",
       "      <th>Votes</th>\n",
       "    </tr>\n",
       "  </thead>\n",
       "  <tbody>\n",
       "    <tr>\n",
       "      <th>0</th>\n",
       "      <td>6317637</td>\n",
       "      <td>Le Petit Souffle</td>\n",
       "      <td>162</td>\n",
       "      <td>Makati City</td>\n",
       "      <td>Third Floor, Century City Mall, Kalayaan Avenu...</td>\n",
       "      <td>Century City Mall, Poblacion, Makati City</td>\n",
       "      <td>Century City Mall, Poblacion, Makati City, Mak...</td>\n",
       "      <td>121.027535</td>\n",
       "      <td>14.565443</td>\n",
       "      <td>French, Japanese, Desserts</td>\n",
       "      <td>...</td>\n",
       "      <td>Botswana Pula(P)</td>\n",
       "      <td>Yes</td>\n",
       "      <td>No</td>\n",
       "      <td>No</td>\n",
       "      <td>No</td>\n",
       "      <td>3</td>\n",
       "      <td>4.8</td>\n",
       "      <td>Dark Green</td>\n",
       "      <td>Excellent</td>\n",
       "      <td>314</td>\n",
       "    </tr>\n",
       "    <tr>\n",
       "      <th>1</th>\n",
       "      <td>6304287</td>\n",
       "      <td>Izakaya Kikufuji</td>\n",
       "      <td>162</td>\n",
       "      <td>Makati City</td>\n",
       "      <td>Little Tokyo, 2277 Chino Roces Avenue, Legaspi...</td>\n",
       "      <td>Little Tokyo, Legaspi Village, Makati City</td>\n",
       "      <td>Little Tokyo, Legaspi Village, Makati City, Ma...</td>\n",
       "      <td>121.014101</td>\n",
       "      <td>14.553708</td>\n",
       "      <td>Japanese</td>\n",
       "      <td>...</td>\n",
       "      <td>Botswana Pula(P)</td>\n",
       "      <td>Yes</td>\n",
       "      <td>No</td>\n",
       "      <td>No</td>\n",
       "      <td>No</td>\n",
       "      <td>3</td>\n",
       "      <td>4.5</td>\n",
       "      <td>Dark Green</td>\n",
       "      <td>Excellent</td>\n",
       "      <td>591</td>\n",
       "    </tr>\n",
       "    <tr>\n",
       "      <th>2</th>\n",
       "      <td>6300002</td>\n",
       "      <td>Heat - Edsa Shangri-La</td>\n",
       "      <td>162</td>\n",
       "      <td>Mandaluyong City</td>\n",
       "      <td>Edsa Shangri-La, 1 Garden Way, Ortigas, Mandal...</td>\n",
       "      <td>Edsa Shangri-La, Ortigas, Mandaluyong City</td>\n",
       "      <td>Edsa Shangri-La, Ortigas, Mandaluyong City, Ma...</td>\n",
       "      <td>121.056831</td>\n",
       "      <td>14.581404</td>\n",
       "      <td>Seafood, Asian, Filipino, Indian</td>\n",
       "      <td>...</td>\n",
       "      <td>Botswana Pula(P)</td>\n",
       "      <td>Yes</td>\n",
       "      <td>No</td>\n",
       "      <td>No</td>\n",
       "      <td>No</td>\n",
       "      <td>4</td>\n",
       "      <td>4.4</td>\n",
       "      <td>Green</td>\n",
       "      <td>Very Good</td>\n",
       "      <td>270</td>\n",
       "    </tr>\n",
       "    <tr>\n",
       "      <th>3</th>\n",
       "      <td>6318506</td>\n",
       "      <td>Ooma</td>\n",
       "      <td>162</td>\n",
       "      <td>Mandaluyong City</td>\n",
       "      <td>Third Floor, Mega Fashion Hall, SM Megamall, O...</td>\n",
       "      <td>SM Megamall, Ortigas, Mandaluyong City</td>\n",
       "      <td>SM Megamall, Ortigas, Mandaluyong City, Mandal...</td>\n",
       "      <td>121.056475</td>\n",
       "      <td>14.585318</td>\n",
       "      <td>Japanese, Sushi</td>\n",
       "      <td>...</td>\n",
       "      <td>Botswana Pula(P)</td>\n",
       "      <td>No</td>\n",
       "      <td>No</td>\n",
       "      <td>No</td>\n",
       "      <td>No</td>\n",
       "      <td>4</td>\n",
       "      <td>4.9</td>\n",
       "      <td>Dark Green</td>\n",
       "      <td>Excellent</td>\n",
       "      <td>365</td>\n",
       "    </tr>\n",
       "    <tr>\n",
       "      <th>4</th>\n",
       "      <td>6314302</td>\n",
       "      <td>Sambo Kojin</td>\n",
       "      <td>162</td>\n",
       "      <td>Mandaluyong City</td>\n",
       "      <td>Third Floor, Mega Atrium, SM Megamall, Ortigas...</td>\n",
       "      <td>SM Megamall, Ortigas, Mandaluyong City</td>\n",
       "      <td>SM Megamall, Ortigas, Mandaluyong City, Mandal...</td>\n",
       "      <td>121.057508</td>\n",
       "      <td>14.584450</td>\n",
       "      <td>Japanese, Korean</td>\n",
       "      <td>...</td>\n",
       "      <td>Botswana Pula(P)</td>\n",
       "      <td>Yes</td>\n",
       "      <td>No</td>\n",
       "      <td>No</td>\n",
       "      <td>No</td>\n",
       "      <td>4</td>\n",
       "      <td>4.8</td>\n",
       "      <td>Dark Green</td>\n",
       "      <td>Excellent</td>\n",
       "      <td>229</td>\n",
       "    </tr>\n",
       "  </tbody>\n",
       "</table>\n",
       "<p>5 rows × 21 columns</p>\n",
       "</div>"
      ],
      "text/plain": [
       "   Restaurant ID         Restaurant Name  Country Code              City  \\\n",
       "0        6317637        Le Petit Souffle           162       Makati City   \n",
       "1        6304287        Izakaya Kikufuji           162       Makati City   \n",
       "2        6300002  Heat - Edsa Shangri-La           162  Mandaluyong City   \n",
       "3        6318506                    Ooma           162  Mandaluyong City   \n",
       "4        6314302             Sambo Kojin           162  Mandaluyong City   \n",
       "\n",
       "                                             Address  \\\n",
       "0  Third Floor, Century City Mall, Kalayaan Avenu...   \n",
       "1  Little Tokyo, 2277 Chino Roces Avenue, Legaspi...   \n",
       "2  Edsa Shangri-La, 1 Garden Way, Ortigas, Mandal...   \n",
       "3  Third Floor, Mega Fashion Hall, SM Megamall, O...   \n",
       "4  Third Floor, Mega Atrium, SM Megamall, Ortigas...   \n",
       "\n",
       "                                     Locality  \\\n",
       "0   Century City Mall, Poblacion, Makati City   \n",
       "1  Little Tokyo, Legaspi Village, Makati City   \n",
       "2  Edsa Shangri-La, Ortigas, Mandaluyong City   \n",
       "3      SM Megamall, Ortigas, Mandaluyong City   \n",
       "4      SM Megamall, Ortigas, Mandaluyong City   \n",
       "\n",
       "                                    Locality Verbose   Longitude   Latitude  \\\n",
       "0  Century City Mall, Poblacion, Makati City, Mak...  121.027535  14.565443   \n",
       "1  Little Tokyo, Legaspi Village, Makati City, Ma...  121.014101  14.553708   \n",
       "2  Edsa Shangri-La, Ortigas, Mandaluyong City, Ma...  121.056831  14.581404   \n",
       "3  SM Megamall, Ortigas, Mandaluyong City, Mandal...  121.056475  14.585318   \n",
       "4  SM Megamall, Ortigas, Mandaluyong City, Mandal...  121.057508  14.584450   \n",
       "\n",
       "                           Cuisines  ...          Currency Has Table booking  \\\n",
       "0        French, Japanese, Desserts  ...  Botswana Pula(P)               Yes   \n",
       "1                          Japanese  ...  Botswana Pula(P)               Yes   \n",
       "2  Seafood, Asian, Filipino, Indian  ...  Botswana Pula(P)               Yes   \n",
       "3                   Japanese, Sushi  ...  Botswana Pula(P)                No   \n",
       "4                  Japanese, Korean  ...  Botswana Pula(P)               Yes   \n",
       "\n",
       "  Has Online delivery Is delivering now Switch to order menu Price range  \\\n",
       "0                  No                No                   No           3   \n",
       "1                  No                No                   No           3   \n",
       "2                  No                No                   No           4   \n",
       "3                  No                No                   No           4   \n",
       "4                  No                No                   No           4   \n",
       "\n",
       "   Aggregate rating  Rating color Rating text Votes  \n",
       "0               4.8    Dark Green   Excellent   314  \n",
       "1               4.5    Dark Green   Excellent   591  \n",
       "2               4.4         Green   Very Good   270  \n",
       "3               4.9    Dark Green   Excellent   365  \n",
       "4               4.8    Dark Green   Excellent   229  \n",
       "\n",
       "[5 rows x 21 columns]"
      ]
     },
     "execution_count": 2,
     "metadata": {},
     "output_type": "execute_result"
    }
   ],
   "source": [
    "file_path=r'/kaggle/input/restaurant-dataset/Dataset .csv'\n",
    "data=pd.read_csv(file_path)\n",
    "data.head()"
   ]
  },
  {
   "cell_type": "markdown",
   "id": "a99d5378",
   "metadata": {
    "papermill": {
     "duration": 0.00632,
     "end_time": "2024-04-07T08:19:01.223604",
     "exception": false,
     "start_time": "2024-04-07T08:19:01.217284",
     "status": "completed"
    },
    "tags": []
   },
   "source": [
    "# PreProcessing"
   ]
  },
  {
   "cell_type": "code",
   "execution_count": 3,
   "id": "0c5706e3",
   "metadata": {
    "execution": {
     "iopub.execute_input": "2024-04-07T08:19:01.238659Z",
     "iopub.status.busy": "2024-04-07T08:19:01.238218Z",
     "iopub.status.idle": "2024-04-07T08:19:01.263693Z",
     "shell.execute_reply": "2024-04-07T08:19:01.262560Z"
    },
    "papermill": {
     "duration": 0.036189,
     "end_time": "2024-04-07T08:19:01.266631",
     "exception": false,
     "start_time": "2024-04-07T08:19:01.230442",
     "status": "completed"
    },
    "tags": []
   },
   "outputs": [
    {
     "data": {
      "text/plain": [
       "Restaurant ID           0\n",
       "Restaurant Name         0\n",
       "Country Code            0\n",
       "City                    0\n",
       "Address                 0\n",
       "Locality                0\n",
       "Locality Verbose        0\n",
       "Longitude               0\n",
       "Latitude                0\n",
       "Cuisines                9\n",
       "Average Cost for two    0\n",
       "Currency                0\n",
       "Has Table booking       0\n",
       "Has Online delivery     0\n",
       "Is delivering now       0\n",
       "Switch to order menu    0\n",
       "Price range             0\n",
       "Aggregate rating        0\n",
       "Rating color            0\n",
       "Rating text             0\n",
       "Votes                   0\n",
       "dtype: int64"
      ]
     },
     "execution_count": 3,
     "metadata": {},
     "output_type": "execute_result"
    }
   ],
   "source": [
    "#check missing values\n",
    "data.isnull().sum()"
   ]
  },
  {
   "cell_type": "code",
   "execution_count": 4,
   "id": "8ae0f4ae",
   "metadata": {
    "execution": {
     "iopub.execute_input": "2024-04-07T08:19:01.281058Z",
     "iopub.status.busy": "2024-04-07T08:19:01.280645Z",
     "iopub.status.idle": "2024-04-07T08:19:01.305709Z",
     "shell.execute_reply": "2024-04-07T08:19:01.304362Z"
    },
    "papermill": {
     "duration": 0.035463,
     "end_time": "2024-04-07T08:19:01.308415",
     "exception": false,
     "start_time": "2024-04-07T08:19:01.272952",
     "status": "completed"
    },
    "tags": []
   },
   "outputs": [],
   "source": [
    "data.dropna(inplace=True)"
   ]
  },
  {
   "cell_type": "code",
   "execution_count": 5,
   "id": "57c3a5f0",
   "metadata": {
    "execution": {
     "iopub.execute_input": "2024-04-07T08:19:01.323464Z",
     "iopub.status.busy": "2024-04-07T08:19:01.322846Z",
     "iopub.status.idle": "2024-04-07T08:19:01.370201Z",
     "shell.execute_reply": "2024-04-07T08:19:01.369088Z"
    },
    "papermill": {
     "duration": 0.05777,
     "end_time": "2024-04-07T08:19:01.372674",
     "exception": false,
     "start_time": "2024-04-07T08:19:01.314904",
     "status": "completed"
    },
    "tags": []
   },
   "outputs": [
    {
     "data": {
      "text/html": [
       "<div>\n",
       "<style scoped>\n",
       "    .dataframe tbody tr th:only-of-type {\n",
       "        vertical-align: middle;\n",
       "    }\n",
       "\n",
       "    .dataframe tbody tr th {\n",
       "        vertical-align: top;\n",
       "    }\n",
       "\n",
       "    .dataframe thead th {\n",
       "        text-align: right;\n",
       "    }\n",
       "</style>\n",
       "<table border=\"1\" class=\"dataframe\">\n",
       "  <thead>\n",
       "    <tr style=\"text-align: right;\">\n",
       "      <th></th>\n",
       "      <th>Restaurant ID</th>\n",
       "      <th>Restaurant Name</th>\n",
       "      <th>Country Code</th>\n",
       "      <th>City</th>\n",
       "      <th>Address</th>\n",
       "      <th>Locality</th>\n",
       "      <th>Locality Verbose</th>\n",
       "      <th>Longitude</th>\n",
       "      <th>Latitude</th>\n",
       "      <th>Cuisines</th>\n",
       "      <th>...</th>\n",
       "      <th>Currency</th>\n",
       "      <th>Has Table booking</th>\n",
       "      <th>Has Online delivery</th>\n",
       "      <th>Is delivering now</th>\n",
       "      <th>Switch to order menu</th>\n",
       "      <th>Price range</th>\n",
       "      <th>Aggregate rating</th>\n",
       "      <th>Rating color</th>\n",
       "      <th>Rating text</th>\n",
       "      <th>Votes</th>\n",
       "    </tr>\n",
       "  </thead>\n",
       "  <tbody>\n",
       "  </tbody>\n",
       "</table>\n",
       "<p>0 rows × 21 columns</p>\n",
       "</div>"
      ],
      "text/plain": [
       "Empty DataFrame\n",
       "Columns: [Restaurant ID, Restaurant Name, Country Code, City, Address, Locality, Locality Verbose, Longitude, Latitude, Cuisines, Average Cost for two, Currency, Has Table booking, Has Online delivery, Is delivering now, Switch to order menu, Price range, Aggregate rating, Rating color, Rating text, Votes]\n",
       "Index: []\n",
       "\n",
       "[0 rows x 21 columns]"
      ]
     },
     "execution_count": 5,
     "metadata": {},
     "output_type": "execute_result"
    }
   ],
   "source": [
    "#check duplicates\n",
    "data[data.duplicated()]"
   ]
  },
  {
   "cell_type": "code",
   "execution_count": 6,
   "id": "df79ebfa",
   "metadata": {
    "execution": {
     "iopub.execute_input": "2024-04-07T08:19:01.387923Z",
     "iopub.status.busy": "2024-04-07T08:19:01.386968Z",
     "iopub.status.idle": "2024-04-07T08:19:01.394937Z",
     "shell.execute_reply": "2024-04-07T08:19:01.393788Z"
    },
    "papermill": {
     "duration": 0.018392,
     "end_time": "2024-04-07T08:19:01.397565",
     "exception": false,
     "start_time": "2024-04-07T08:19:01.379173",
     "status": "completed"
    },
    "tags": []
   },
   "outputs": [
    {
     "data": {
      "text/plain": [
       "Index(['Restaurant ID', 'Restaurant Name', 'Country Code', 'City', 'Address',\n",
       "       'Locality', 'Locality Verbose', 'Longitude', 'Latitude', 'Cuisines',\n",
       "       'Average Cost for two', 'Currency', 'Has Table booking',\n",
       "       'Has Online delivery', 'Is delivering now', 'Switch to order menu',\n",
       "       'Price range', 'Aggregate rating', 'Rating color', 'Rating text',\n",
       "       'Votes'],\n",
       "      dtype='object')"
      ]
     },
     "execution_count": 6,
     "metadata": {},
     "output_type": "execute_result"
    }
   ],
   "source": [
    "data.columns"
   ]
  },
  {
   "cell_type": "code",
   "execution_count": 7,
   "id": "aaf92ebe",
   "metadata": {
    "execution": {
     "iopub.execute_input": "2024-04-07T08:19:01.413678Z",
     "iopub.status.busy": "2024-04-07T08:19:01.412946Z",
     "iopub.status.idle": "2024-04-07T08:19:01.431049Z",
     "shell.execute_reply": "2024-04-07T08:19:01.429947Z"
    },
    "papermill": {
     "duration": 0.029155,
     "end_time": "2024-04-07T08:19:01.433492",
     "exception": false,
     "start_time": "2024-04-07T08:19:01.404337",
     "status": "completed"
    },
    "tags": []
   },
   "outputs": [
    {
     "data": {
      "text/html": [
       "<div>\n",
       "<style scoped>\n",
       "    .dataframe tbody tr th:only-of-type {\n",
       "        vertical-align: middle;\n",
       "    }\n",
       "\n",
       "    .dataframe tbody tr th {\n",
       "        vertical-align: top;\n",
       "    }\n",
       "\n",
       "    .dataframe thead th {\n",
       "        text-align: right;\n",
       "    }\n",
       "</style>\n",
       "<table border=\"1\" class=\"dataframe\">\n",
       "  <thead>\n",
       "    <tr style=\"text-align: right;\">\n",
       "      <th></th>\n",
       "      <th>City</th>\n",
       "      <th>Average Cost for two</th>\n",
       "      <th>Cuisines</th>\n",
       "      <th>Has Online delivery</th>\n",
       "      <th>Aggregate rating</th>\n",
       "    </tr>\n",
       "  </thead>\n",
       "  <tbody>\n",
       "    <tr>\n",
       "      <th>0</th>\n",
       "      <td>Makati City</td>\n",
       "      <td>1100</td>\n",
       "      <td>French, Japanese, Desserts</td>\n",
       "      <td>No</td>\n",
       "      <td>4.8</td>\n",
       "    </tr>\n",
       "    <tr>\n",
       "      <th>1</th>\n",
       "      <td>Makati City</td>\n",
       "      <td>1200</td>\n",
       "      <td>Japanese</td>\n",
       "      <td>No</td>\n",
       "      <td>4.5</td>\n",
       "    </tr>\n",
       "    <tr>\n",
       "      <th>2</th>\n",
       "      <td>Mandaluyong City</td>\n",
       "      <td>4000</td>\n",
       "      <td>Seafood, Asian, Filipino, Indian</td>\n",
       "      <td>No</td>\n",
       "      <td>4.4</td>\n",
       "    </tr>\n",
       "    <tr>\n",
       "      <th>3</th>\n",
       "      <td>Mandaluyong City</td>\n",
       "      <td>1500</td>\n",
       "      <td>Japanese, Sushi</td>\n",
       "      <td>No</td>\n",
       "      <td>4.9</td>\n",
       "    </tr>\n",
       "    <tr>\n",
       "      <th>4</th>\n",
       "      <td>Mandaluyong City</td>\n",
       "      <td>1500</td>\n",
       "      <td>Japanese, Korean</td>\n",
       "      <td>No</td>\n",
       "      <td>4.8</td>\n",
       "    </tr>\n",
       "    <tr>\n",
       "      <th>...</th>\n",
       "      <td>...</td>\n",
       "      <td>...</td>\n",
       "      <td>...</td>\n",
       "      <td>...</td>\n",
       "      <td>...</td>\n",
       "    </tr>\n",
       "    <tr>\n",
       "      <th>9546</th>\n",
       "      <td>��stanbul</td>\n",
       "      <td>80</td>\n",
       "      <td>Turkish</td>\n",
       "      <td>No</td>\n",
       "      <td>4.1</td>\n",
       "    </tr>\n",
       "    <tr>\n",
       "      <th>9547</th>\n",
       "      <td>��stanbul</td>\n",
       "      <td>105</td>\n",
       "      <td>World Cuisine, Patisserie, Cafe</td>\n",
       "      <td>No</td>\n",
       "      <td>4.2</td>\n",
       "    </tr>\n",
       "    <tr>\n",
       "      <th>9548</th>\n",
       "      <td>��stanbul</td>\n",
       "      <td>170</td>\n",
       "      <td>Italian, World Cuisine</td>\n",
       "      <td>No</td>\n",
       "      <td>3.7</td>\n",
       "    </tr>\n",
       "    <tr>\n",
       "      <th>9549</th>\n",
       "      <td>��stanbul</td>\n",
       "      <td>120</td>\n",
       "      <td>Restaurant Cafe</td>\n",
       "      <td>No</td>\n",
       "      <td>4.0</td>\n",
       "    </tr>\n",
       "    <tr>\n",
       "      <th>9550</th>\n",
       "      <td>��stanbul</td>\n",
       "      <td>55</td>\n",
       "      <td>Cafe</td>\n",
       "      <td>No</td>\n",
       "      <td>4.0</td>\n",
       "    </tr>\n",
       "  </tbody>\n",
       "</table>\n",
       "<p>9542 rows × 5 columns</p>\n",
       "</div>"
      ],
      "text/plain": [
       "                  City  Average Cost for two  \\\n",
       "0          Makati City                  1100   \n",
       "1          Makati City                  1200   \n",
       "2     Mandaluyong City                  4000   \n",
       "3     Mandaluyong City                  1500   \n",
       "4     Mandaluyong City                  1500   \n",
       "...                ...                   ...   \n",
       "9546         ��stanbul                    80   \n",
       "9547         ��stanbul                   105   \n",
       "9548         ��stanbul                   170   \n",
       "9549         ��stanbul                   120   \n",
       "9550         ��stanbul                    55   \n",
       "\n",
       "                              Cuisines Has Online delivery  Aggregate rating  \n",
       "0           French, Japanese, Desserts                  No               4.8  \n",
       "1                             Japanese                  No               4.5  \n",
       "2     Seafood, Asian, Filipino, Indian                  No               4.4  \n",
       "3                      Japanese, Sushi                  No               4.9  \n",
       "4                     Japanese, Korean                  No               4.8  \n",
       "...                                ...                 ...               ...  \n",
       "9546                           Turkish                  No               4.1  \n",
       "9547   World Cuisine, Patisserie, Cafe                  No               4.2  \n",
       "9548            Italian, World Cuisine                  No               3.7  \n",
       "9549                   Restaurant Cafe                  No               4.0  \n",
       "9550                              Cafe                  No               4.0  \n",
       "\n",
       "[9542 rows x 5 columns]"
      ]
     },
     "execution_count": 7,
     "metadata": {},
     "output_type": "execute_result"
    }
   ],
   "source": [
    "#filter the data\n",
    "features=[\"City\", \"Average Cost for two\", 'Cuisines', 'Has Online delivery','Aggregate rating']\n",
    "data2=data[features]\n",
    "data2\n",
    "    "
   ]
  },
  {
   "cell_type": "markdown",
   "id": "830d29f9",
   "metadata": {
    "papermill": {
     "duration": 0.006759,
     "end_time": "2024-04-07T08:19:01.447194",
     "exception": false,
     "start_time": "2024-04-07T08:19:01.440435",
     "status": "completed"
    },
    "tags": []
   },
   "source": [
    "# encoding and splitting the data"
   ]
  },
  {
   "cell_type": "code",
   "execution_count": 8,
   "id": "ba569158",
   "metadata": {
    "execution": {
     "iopub.execute_input": "2024-04-07T08:19:01.463505Z",
     "iopub.status.busy": "2024-04-07T08:19:01.462845Z",
     "iopub.status.idle": "2024-04-07T08:19:02.950754Z",
     "shell.execute_reply": "2024-04-07T08:19:02.949426Z"
    },
    "papermill": {
     "duration": 1.499364,
     "end_time": "2024-04-07T08:19:02.953649",
     "exception": false,
     "start_time": "2024-04-07T08:19:01.454285",
     "status": "completed"
    },
    "tags": []
   },
   "outputs": [],
   "source": [
    "from sklearn.preprocessing import OneHotEncoder\n",
    "\n",
    "encoder=OneHotEncoder()\n",
    "data3=encoder.fit_transform(data2)"
   ]
  },
  {
   "cell_type": "code",
   "execution_count": 9,
   "id": "8648981f",
   "metadata": {
    "execution": {
     "iopub.execute_input": "2024-04-07T08:19:02.970652Z",
     "iopub.status.busy": "2024-04-07T08:19:02.970234Z",
     "iopub.status.idle": "2024-04-07T08:19:03.108008Z",
     "shell.execute_reply": "2024-04-07T08:19:03.107006Z"
    },
    "papermill": {
     "duration": 0.149539,
     "end_time": "2024-04-07T08:19:03.110717",
     "exception": false,
     "start_time": "2024-04-07T08:19:02.961178",
     "status": "completed"
    },
    "tags": []
   },
   "outputs": [],
   "source": [
    "from sklearn.model_selection import train_test_split\n",
    "\n",
    "x=data3\n",
    "y=data[\"Price range\"]\n",
    "\n",
    "x_train,x_test,y_train,y_test=train_test_split(x,y,test_size =0.3 , random_state=1)"
   ]
  },
  {
   "cell_type": "markdown",
   "id": "efce26ce",
   "metadata": {
    "papermill": {
     "duration": 0.007272,
     "end_time": "2024-04-07T08:19:03.125231",
     "exception": false,
     "start_time": "2024-04-07T08:19:03.117959",
     "status": "completed"
    },
    "tags": []
   },
   "source": [
    "# Builging the model"
   ]
  },
  {
   "cell_type": "code",
   "execution_count": 10,
   "id": "3b538ffb",
   "metadata": {
    "execution": {
     "iopub.execute_input": "2024-04-07T08:19:03.141932Z",
     "iopub.status.busy": "2024-04-07T08:19:03.141516Z",
     "iopub.status.idle": "2024-04-07T08:19:03.641115Z",
     "shell.execute_reply": "2024-04-07T08:19:03.639906Z"
    },
    "papermill": {
     "duration": 0.511546,
     "end_time": "2024-04-07T08:19:03.644017",
     "exception": false,
     "start_time": "2024-04-07T08:19:03.132471",
     "status": "completed"
    },
    "tags": []
   },
   "outputs": [],
   "source": [
    "from sklearn.tree import DecisionTreeClassifier\n",
    "\n",
    "model=DecisionTreeClassifier()\n",
    "model.fit(x_train,y_train)\n",
    "\n",
    "predictions=model.predict(x_test)"
   ]
  },
  {
   "cell_type": "code",
   "execution_count": 11,
   "id": "20288643",
   "metadata": {
    "execution": {
     "iopub.execute_input": "2024-04-07T08:19:03.660456Z",
     "iopub.status.busy": "2024-04-07T08:19:03.659760Z",
     "iopub.status.idle": "2024-04-07T08:19:03.667469Z",
     "shell.execute_reply": "2024-04-07T08:19:03.666170Z"
    },
    "papermill": {
     "duration": 0.018896,
     "end_time": "2024-04-07T08:19:03.669988",
     "exception": false,
     "start_time": "2024-04-07T08:19:03.651092",
     "status": "completed"
    },
    "tags": []
   },
   "outputs": [
    {
     "name": "stdout",
     "output_type": "stream",
     "text": [
      "0.9577366398882291\n"
     ]
    }
   ],
   "source": [
    "from sklearn.metrics import accuracy_score\n",
    "acc=accuracy_score(y_test , predictions)\n",
    "print(acc)"
   ]
  },
  {
   "cell_type": "code",
   "execution_count": null,
   "id": "93e7ab73",
   "metadata": {
    "papermill": {
     "duration": 0.006807,
     "end_time": "2024-04-07T08:19:03.683980",
     "exception": false,
     "start_time": "2024-04-07T08:19:03.677173",
     "status": "completed"
    },
    "tags": []
   },
   "outputs": [],
   "source": []
  }
 ],
 "metadata": {
  "kaggle": {
   "accelerator": "none",
   "dataSources": [
    {
     "datasetId": 4727822,
     "sourceId": 8022927,
     "sourceType": "datasetVersion"
    }
   ],
   "dockerImageVersionId": 30673,
   "isGpuEnabled": false,
   "isInternetEnabled": true,
   "language": "python",
   "sourceType": "notebook"
  },
  "kernelspec": {
   "display_name": "Python 3",
   "language": "python",
   "name": "python3"
  },
  "language_info": {
   "codemirror_mode": {
    "name": "ipython",
    "version": 3
   },
   "file_extension": ".py",
   "mimetype": "text/x-python",
   "name": "python",
   "nbconvert_exporter": "python",
   "pygments_lexer": "ipython3",
   "version": "3.10.13"
  },
  "papermill": {
   "default_parameters": {},
   "duration": 7.573134,
   "end_time": "2024-04-07T08:19:04.312661",
   "environment_variables": {},
   "exception": null,
   "input_path": "__notebook__.ipynb",
   "output_path": "__notebook__.ipynb",
   "parameters": {},
   "start_time": "2024-04-07T08:18:56.739527",
   "version": "2.5.0"
  }
 },
 "nbformat": 4,
 "nbformat_minor": 5
}
